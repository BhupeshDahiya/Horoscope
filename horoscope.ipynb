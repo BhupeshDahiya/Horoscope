{
  "nbformat": 4,
  "nbformat_minor": 0,
  "metadata": {
    "colab": {
      "name": "horoscope.ipynb",
      "provenance": [],
      "authorship_tag": "ABX9TyP+nQJONlSJ7m1UkgvKd/EZ",
      "include_colab_link": true
    },
    "kernelspec": {
      "name": "python3",
      "display_name": "Python 3"
    },
    "language_info": {
      "name": "python"
    }
  },
  "cells": [
    {
      "cell_type": "markdown",
      "metadata": {
        "id": "view-in-github",
        "colab_type": "text"
      },
      "source": [
        "<a href=\"https://colab.research.google.com/github/BhupeshDahiya/Horoscope/blob/main/horoscope.ipynb\" target=\"_parent\"><img src=\"https://colab.research.google.com/assets/colab-badge.svg\" alt=\"Open In Colab\"/></a>"
      ]
    },
    {
      "cell_type": "code",
      "execution_count": null,
      "metadata": {
        "colab": {
          "base_uri": "https://localhost:8080/"
        },
        "id": "gJHIyDEvxIn9",
        "outputId": "cf8f5cf8-e066-46f0-d75f-6980e2039ea5"
      },
      "outputs": [
        {
          "output_type": "stream",
          "name": "stdout",
          "text": [
            "Please enter the zodiac sign you want to look up - aries\n",
            "Today, the stars put you on high alert and not for nothing. You will save yourself from being swindled. Though you will easily manage to stay ahead of others, you may make a few enemies on your way. It's not a good day if you're looking to buy a house or vehicle.\n"
          ]
        }
      ],
      "source": [
        "import sys\n",
        "import requests\n",
        "from bs4 import BeautifulSoup\n",
        "\n",
        "\n",
        "def horoscope(sign):\n",
        "    url = \"https://www.ganeshaspeaks.com/horoscopes/daily-horoscope/\"+sign+\"/\"\n",
        "    html_content = requests.get(url).text\n",
        "    soup = BeautifulSoup(html_content, \"html.parser\")\n",
        "    horos = soup.find_all(id=\"horo_content\")\n",
        "    for horo in horos:\n",
        "        text = horo.text\n",
        "    print(text)\n",
        "sign = input(\"Please enter the zodiac sign you want to look up - \")\n",
        "horoscope(sign)"
      ]
    }
  ]
}